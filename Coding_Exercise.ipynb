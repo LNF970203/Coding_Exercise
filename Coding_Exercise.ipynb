{
 "cells": [
  {
   "cell_type": "code",
   "execution_count": 17,
   "id": "1d4e8241",
   "metadata": {},
   "outputs": [],
   "source": [
    "import os\n",
    "import glob\n",
    "import shutil"
   ]
  },
  {
   "cell_type": "code",
   "execution_count": 18,
   "id": "ea6c7806",
   "metadata": {},
   "outputs": [],
   "source": [
    "target_path = \"C:\\Lachin\\O\\Open Data Set\\High\\Fresh\\Below Best\\Task1\"#target path to copy the file\n",
    "for file_path in glob.glob(\"C:\\Lachin\\O\\Open Data Set\\High\\Fresh\\Below Best\\High*\"):#calling the pattern and loop through it\n",
    "    shutil.copy(original_path,target_path)#saving to the new path"
   ]
  },
  {
   "cell_type": "code",
   "execution_count": 19,
   "id": "7f1cfc20",
   "metadata": {},
   "outputs": [],
   "source": [
    "#As a function\n",
    "def path_change(pattern,newpath):\n",
    "    for file_path in pattern:\n",
    "        shutil.copy(file_path,newpath)"
   ]
  },
  {
   "cell_type": "code",
   "execution_count": 20,
   "id": "26f170d2",
   "metadata": {},
   "outputs": [],
   "source": [
    "path_change(path,target_path)"
   ]
  }
 ],
 "metadata": {
  "kernelspec": {
   "display_name": "Python 3",
   "language": "python",
   "name": "python3"
  },
  "language_info": {
   "codemirror_mode": {
    "name": "ipython",
    "version": 3
   },
   "file_extension": ".py",
   "mimetype": "text/x-python",
   "name": "python",
   "nbconvert_exporter": "python",
   "pygments_lexer": "ipython3",
   "version": "3.8.8"
  }
 },
 "nbformat": 4,
 "nbformat_minor": 5
}
