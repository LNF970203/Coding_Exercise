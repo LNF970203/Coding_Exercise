{
 "cells": [
  {
   "cell_type": "code",
   "execution_count": 9,
   "id": "f6c18f11",
   "metadata": {},
   "outputs": [],
   "source": [
    "import pandas as pd\n",
    "import os\n",
    "import glob\n",
    "import shutil"
   ]
  },
  {
   "cell_type": "code",
   "execution_count": 13,
   "id": "539ad328",
   "metadata": {},
   "outputs": [],
   "source": [
    "path = glob.glob(\"C:\\Lachin\\O\\Open Data Set\\High\\Fresh\\Below Best\\High*\")"
   ]
  },
  {
   "cell_type": "code",
   "execution_count": 12,
   "id": "857d9bce",
   "metadata": {},
   "outputs": [],
   "source": [
    "target_path = \"C:\\Lachin\\O\\Open Data Set\\High\\Fresh\\Below Best\\Task1\"#target path to copy the file\n",
    "for file_path in glob.glob(\"C:\\Lachin\\O\\Open Data Set\\High\\Fresh\\Below Best\\High*\"):#calling the pattern and loop through it\n",
    "    shutil.copy(original_path,target_path)#saving to the new path"
   ]
  },
  {
   "cell_type": "code",
   "execution_count": 14,
   "id": "7aa2db1f",
   "metadata": {},
   "outputs": [],
   "source": [
    "#As a function\n",
    "def path_change(pattern,newpath):\n",
    "    for file_path in pattern:\n",
    "        shutil.copy(file_path,newpath)"
   ]
  },
  {
   "cell_type": "code",
   "execution_count": 16,
   "id": "67e84d1b",
   "metadata": {},
   "outputs": [],
   "source": [
    "path_change(path,target_path)"
   ]
  },
  {
   "cell_type": "code",
   "execution_count": null,
   "id": "93ba90a6",
   "metadata": {},
   "outputs": [],
   "source": []
  }
 ],
 "metadata": {
  "kernelspec": {
   "display_name": "Python 3",
   "language": "python",
   "name": "python3"
  },
  "language_info": {
   "codemirror_mode": {
    "name": "ipython",
    "version": 3
   },
   "file_extension": ".py",
   "mimetype": "text/x-python",
   "name": "python",
   "nbconvert_exporter": "python",
   "pygments_lexer": "ipython3",
   "version": "3.8.8"
  }
 },
 "nbformat": 4,
 "nbformat_minor": 5
}
